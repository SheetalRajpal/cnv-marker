{
  "cells": [
    {
      "cell_type": "markdown",
      "metadata": {
        "id": "B9VVQvMbSvns"
      },
      "source": [
        "# Phase 2: Classifier"
      ]
    },
    {
      "cell_type": "code",
      "execution_count": null,
      "metadata": {
        "id": "EJeVASKHQdrN"
      },
      "outputs": [],
      "source": [
        "!pip install git+https://github.com/marcoancona/DeepExplain"
      ]
    },
    {
      "cell_type": "code",
      "execution_count": null,
      "metadata": {
        "id": "1bbmtmGqfER2"
      },
      "outputs": [],
      "source": [
        "!pip install kneed"
      ]
    },
    {
      "cell_type": "code",
      "execution_count": null,
      "metadata": {
        "id": "u2UBDwawbvM3"
      },
      "outputs": [],
      "source": [
        "!pip install catboost\n"
      ]
    },
    {
      "cell_type": "code",
      "execution_count": null,
      "metadata": {
        "id": "w3ifUTG9fHdE"
      },
      "outputs": [],
      "source": [
        "#!pip uninstall h5py\n",
        "!pip install h5py==2.10.0"
      ]
    },
    {
      "cell_type": "code",
      "execution_count": null,
      "metadata": {
        "id": "bR5v5FfgBHg7"
      },
      "outputs": [],
      "source": [
        "#!pip install git+https://github.com/albermax/innvestigate\n",
        "from google.colab import drive\n",
        "drive.mount('/content/drive/')\n",
        "import os\n",
        "\n",
        "os.chdir('/content/drive/My Drive/CNV')"
      ]
    },
    {
      "cell_type": "code",
      "execution_count": null,
      "metadata": {
        "id": "rVOVQDq8fNX5"
      },
      "outputs": [],
      "source": [
        "!ls"
      ]
    },
    {
      "cell_type": "code",
      "execution_count": null,
      "metadata": {
        "id": "TEYd5SE_BSXb"
      },
      "outputs": [],
      "source": [
        "\"\"\"\n",
        "# Load the TensorBoard notebook extension\n",
        "%load_ext tensorboard\n",
        "%tensorflow_version 1\n",
        "#Start tensorboard\n",
        "%tensorboard — logdir logs\n",
        "%load_ext autoreload\n",
        "%autoreload 2\n",
        "import warnings\n",
        "warnings.simplefilter('ignore')\n",
        "\"\"\""
      ]
    },
    {
      "cell_type": "code",
      "execution_count": null,
      "metadata": {
        "id": "7gUoAAEvfSog"
      },
      "outputs": [],
      "source": [
        "seed=0\n",
        "import random\n",
        "random.seed(seed)\n",
        "import numpy as np\n",
        "np.random.seed(seed)\n",
        "#from tensorflow import set_random_seed\n",
        "#set_random_seed(seed)"
      ]
    },
    {
      "cell_type": "code",
      "execution_count": null,
      "metadata": {
        "id": "_n2sqoT3YfuT"
      },
      "outputs": [],
      "source": [
        "#!pip install --upgrade scikit-learn\n",
        "#!pip install --upgrade imblearn"
      ]
    },
    {
      "cell_type": "code",
      "execution_count": null,
      "metadata": {
        "id": "QZRMaQFLXyQD"
      },
      "outputs": [],
      "source": [
        "#! pip install scikit-learn==0.21.1\n",
        "!pip install --upgrade scikit-learn\n",
        "! pip install -U imbalanced-learn"
      ]
    },
    {
      "cell_type": "code",
      "execution_count": null,
      "metadata": {
        "id": "SLjxKK3oBa2E"
      },
      "outputs": [],
      "source": [
        "%matplotlib inline  \n",
        "\n",
        "import imp\n",
        "import numpy as np\n",
        "import os\n",
        "import keras\n",
        "import keras.backend\n",
        "import keras.models\n",
        "#import innvestigate\n",
        "#import innvestigate.utils as iutils\n",
        "#!pip install scikit-learn==0.20.0\n",
        "import sklearn\n",
        "import pandas as pd\n",
        "import tensorflow as tf\n",
        "from sklearn.preprocessing import LabelEncoder\n",
        "from sklearn.preprocessing import OneHotEncoder\n",
        "from sklearn.model_selection import train_test_split\n",
        "from imblearn.over_sampling import SMOTE\n",
        "from keras import regularizers\n",
        "from keras.models import Model,Sequential\n",
        "from keras.layers import Input,Dense,Dropout\n",
        "#from keras.layers.normalization import BatchNormalization\n",
        "from tensorflow.keras.layers import BatchNormalization\n",
        "from keras.optimizers import Adam, SGD\n",
        "from keras.utils import plot_model\n",
        "from keras import backend as K\n",
        "import matplotlib.pyplot as plt\n",
        "from sklearn.preprocessing import StandardScaler\n",
        "from sklearn.preprocessing import MinMaxScaler\n",
        "from sklearn.metrics import confusion_matrix\n",
        "import keras.models as mod\n",
        "from keras.callbacks import EarlyStopping, ModelCheckpoint \n",
        "from sklearn.model_selection import GridSearchCV\n",
        "from keras.wrappers.scikit_learn import KerasClassifier\n",
        "from keras.callbacks import TensorBoard\n",
        "from keras.utils.vis_utils import plot_model\n",
        "#from sklearn.externals import joblib\n",
        "import joblib\n",
        "drpRate = 0.55"
      ]
    },
    {
      "cell_type": "code",
      "execution_count": null,
      "metadata": {
        "id": "uusLuwkNBcQp"
      },
      "outputs": [],
      "source": [
        "#%tensorflow_version 1\n"
      ]
    },
    {
      "cell_type": "code",
      "execution_count": null,
      "metadata": {
        "id": "vBxpPE7BnsZn"
      },
      "outputs": [],
      "source": [
        "#Initially 0\n",
        "np.random.seed(seed)\n",
        "df = pd.read_csv('./dataset/TCGA_BRCA_CNV.gz',compression='gzip',sep='\\t',index_col=0)\n",
        "df = df.reindex(sorted(df.columns), axis=1)\n",
        "df=df.T\n",
        "print(\"CNV Matrix Before:\", df.shape)\n",
        "df2=pd.read_csv('./dataset/BRCA_clinicalMatrix.gz',compression='gzip',sep='\\t',index_col=0)\n",
        "print(\"Clinical Data Before:\", df2.shape)\n",
        "k=df2.columns.get_loc('PAM50Call_RNAseq')\n",
        "df2=df2[df2.iloc[:,k].isna()==False]\n",
        "#df2=df2[df2.iloc[:,k]!='Normal']\n",
        "#d11=list(set(df.index)-set(df2.index)) #Comment this, if you want to test on unknown sample (generalize model)\n",
        "commonIndexes=sorted(list(set(df2.index).intersection(set(df.index)))) \n",
        "df=df.loc[commonIndexes]\n",
        "df2=df2.loc[commonIndexes] \n",
        "#df=df.drop(d)                         #Comment this, if you want to test on unknown sample (generalize model)\n",
        "print(\"CNV After:\", df.shape)\n",
        "print(\"Clinical Data After:\", df2.shape)\n",
        "print(\"CNV and Clinical Data corresponds to same Patients: \", False if False in (df.index==df2.index) else True)\n",
        "unique_elements, counts_elements = np.unique(df2.iloc[:,k], return_counts=True)\n",
        "print(\"Labels\", unique_elements, counts_elements)"
      ]
    },
    {
      "cell_type": "code",
      "execution_count": null,
      "metadata": {
        "id": "qSEEZQusndoc"
      },
      "outputs": [],
      "source": [
        "CNV45 = ['ZMAT4', 'ADRB3', 'FGF4', 'ZFPM2', 'LETM2', 'BRF2', 'C8orf86', 'RPS20P22', 'PROSC', 'RNA5SP58', 'ZNF703', 'MIR1208', 'FADD', 'IKZF3', 'SNX27', 'MYC', 'GRB7', 'ERBB2', 'PGAP3', 'RBM4', 'STAR', 'MIR4728', 'ANO1', 'MYEOV', 'STARD3', 'ASH2L', 'GPR124', 'ERLIN2', 'TCAP', 'CCND1', 'VPS45', 'EIF4EBP1', 'PPAPDC1B', 'TACC1', 'CDK12', 'RN7SL709P', 'NOTCH2', 'WHSC1L1', 'GOT1L1', 'DDHD2', 'MIEN1', 'PTK2', 'FGFR1', 'PPP1R1B', 'LSM1', 'PNMT']\n",
        "sortedGenes=['ZFPM2', 'RBM4', 'MYC', 'VPS45', 'RNA5SP58', 'MIR1208', 'SNX27', 'NOTCH2', 'PTK2', 'STAR', 'EIF4EBP1', 'MYEOV', 'PROSC', 'CCND1', 'DDHD2', 'PPAPDC1B', 'RN7SL709P', 'TACC1', 'GOT1L1', 'ADRB3', 'LETM2', 'BRF2', 'GPR124', 'ASH2L', 'RPS20P22', 'FGF4', 'ANO1', 'C8orf86', 'FADD', 'FGFR1', 'LSM1', 'ZNF703', 'WHSC1L1', 'PROSC', 'TACC1', 'ZNF703', 'BRF2', 'LSM1', 'DDHD2', 'PPAPDC1B', 'RN7SL709P', 'EIF4EBP1', 'ERLIN2', 'GPR124', 'ASH2L', 'ANO1', 'C8orf86', 'FADD', 'MIEN1', 'CDK12', 'MIR4728', 'PGAP3', 'PNMT', 'PPP1R1B', 'TCAP', 'IKZF3', 'GRB7', 'STARD3', 'ERBB2']\n",
        "from pandas import read_csv\n",
        "import matplotlib.pyplot as plt\n",
        "import seaborn as sns\n",
        "genes = df[sortedGenes]#df[list(set(genes_52))]\n",
        "plt.figure(figsize=(10,7))\n",
        "cm = genes.corr()\n",
        "sns.heatmap(cm, cmap = 'magma_r')#, square=True)\n",
        "plt.yticks(rotation=0)\n",
        "plt.xticks(rotation=90)\n",
        "#plt.savefig('27genes.png', dpi=600, bbox_inches='tight')"
      ]
    },
    {
      "cell_type": "code",
      "execution_count": null,
      "metadata": {
        "id": "uD6HukXVWevC"
      },
      "outputs": [],
      "source": []
    },
    {
      "cell_type": "code",
      "execution_count": null,
      "metadata": {
        "id": "nOQYYbf-Pw4F"
      },
      "outputs": [],
      "source": [
        "#dfFinal1=df2[['PAM50Call_RNAseq', 'OS', 'OS.time']] #+  df[list(set(genes_52))]\n",
        "SelectedWOSMOTE = ['CASC8', 'RN7SL563P', 'SNORA70|ENSG00000252526.1', 'ZNF704', 'TRHR', 'RPL30', 'RNA5SP76', 'RNA5S10', 'RUSC1', 'ANKRD46', 'MIR5194', 'LRRC52', 'CRCT1', 'S100A12', 'EIF3E', 'SNORA32|ENSG00000206776.1', 'MIR548A3', 'SNX16', 'GREM2', 'SUCO', 'NUCKS1', 'C8orf37', 'KHDRBS3', 'SPRTN', 'KIFAP3', 'JRK', 'KLHL38', 'MIR30D', 'OR2M3', 'LCE1B', 'OR2M5', 'OR2T11', 'SPRR2E', 'CSMD3', 'PCAT2', 'OR10K1', 'ZNF706', 'TARBP1', 'MIR1205', 'SLURP1', 'OR2B11', 'CHRAC1', 'MIR5681A', 'VPS45', 'PABPC1', 'TCEB1', 'MIR2053', 'TBCE', 'MTBP', 'HIST2H3C', 'AKT3', 'RNA5SP277', 'CGN', 'ATAD2', 'SCARNA4|ENSG00000252808.1', 'EIF3H', 'PRRC2C', 'RNF187', 'SOAT1', 'SNTB2', 'UBE2V2', 'ASPH', 'SLC26A9', 'LINC00964', 'NBPF8', 'TAF2', 'ZHX2']\n",
        "dfFinal= df[SelectedWOSMOTE]\n",
        "print(dfFinal.head())\n",
        "#dfFinal1.to_csv('./KMPLOT1.xlsx')"
      ]
    },
    {
      "cell_type": "code",
      "execution_count": null,
      "metadata": {
        "id": "Ys5DWAi5P9Mw"
      },
      "outputs": [],
      "source": [
        "dfFinal2=df2[['PAM50Call_RNAseq', 'OS', 'OS.time']] #+  df[list(set(genes_52))]\n",
        "\n",
        "print(dfFinal2.head())\n",
        "#dfFinal2.to_csv('./KMPLOT2.xlsx')"
      ]
    },
    {
      "cell_type": "code",
      "execution_count": null,
      "metadata": {
        "id": "yvTysfjLJSTv"
      },
      "outputs": [],
      "source": [
        "dfFinal.columns"
      ]
    },
    {
      "cell_type": "code",
      "execution_count": null,
      "metadata": {
        "id": "_GxjXgDRDM45"
      },
      "outputs": [],
      "source": [
        "for i in dfFinal.columns:\n",
        "  print(i)"
      ]
    },
    {
      "cell_type": "code",
      "execution_count": null,
      "metadata": {
        "id": "VKPMgZF8sFff"
      },
      "outputs": [],
      "source": [
        "X=np.array(dfFinal.values)\n",
        "scaler=StandardScaler()\n",
        "XScaled=X#scaler.fit_transform(X)\n",
        "print(XScaled.mean(axis = 0), XScaled.std(axis = 0))"
      ]
    },
    {
      "cell_type": "code",
      "execution_count": null,
      "metadata": {
        "id": "cArujw8KXIgg"
      },
      "outputs": [],
      "source": [
        "df[list(set(dfFinal.columns))].T.to_csv('X_44FINAL.csv', sep='\\t')\n",
        "df2.iloc[:,k].to_csv('Y_44FINAL.csv', header=True, index=True, sep='\\t')"
      ]
    },
    {
      "cell_type": "code",
      "execution_count": null,
      "metadata": {
        "id": "MQNLt718CJ0n"
      },
      "outputs": [],
      "source": [
        "#Encoding labels to numerical  values\n",
        "SampleIDs = np.array(df2.index )\n",
        "Y_temp=np.array(df2.values[:,k])\n",
        "print(\"TARGET LABEL SIZE BEFORE: \", Y_temp.shape)\n",
        "label_encoder=LabelEncoder()\n",
        "Y=label_encoder.fit_transform(Y_temp)\n",
        "print(\"TARGET LABEL SIZE BEFORE: \", Y.shape)\n",
        "print(\"Labels before and after:\", Y_temp[0:9], Y[0:9])\n",
        "le_name_mapping = dict(zip(label_encoder.classes_, label_encoder.transform(label_encoder.classes_)))\n",
        "print(le_name_mapping)"
      ]
    },
    {
      "cell_type": "code",
      "execution_count": null,
      "metadata": {
        "id": "dLmn2jV7EN88"
      },
      "outputs": [],
      "source": [
        "onehot_encoder = OneHotEncoder(sparse=False)\n",
        "SampleIDs = SampleIDs.reshape(len(Y), 1)\n",
        "Y = Y.reshape(len(Y), 1)\n",
        "Y_onehot = onehot_encoder.fit_transform(Y)\n",
        "print(Y_onehot.shape, SampleIDs.shape)"
      ]
    },
    {
      "cell_type": "code",
      "execution_count": null,
      "metadata": {
        "id": "7B6GrjGSqgW_"
      },
      "outputs": [],
      "source": [
        "Y_onehot=Y"
      ]
    },
    {
      "cell_type": "code",
      "execution_count": null,
      "metadata": {
        "id": "tIji6222JTzK"
      },
      "outputs": [],
      "source": [
        "from lightgbm import LGBMClassifier\n",
        "from sklearn import metrics\n",
        "from sklearn.metrics import accuracy_score, classification_report"
      ]
    },
    {
      "cell_type": "code",
      "execution_count": null,
      "metadata": {
        "id": "VfSm5_9niz9f"
      },
      "outputs": [],
      "source": [
        "from sklearn.metrics import accuracy_score, classification_report\n",
        "from sklearn.model_selection import StratifiedKFold\n",
        "from sklearn import metrics\n",
        "\n",
        "from imblearn.over_sampling import ADASYN\n",
        "from imblearn.combine import SMOTEENN\n",
        "from collections import Counter\n",
        "#seed=999999#27112017 acc= 68.5\n",
        "# seed=0 acc =67.1\n",
        "#seed=1, acc=69\n",
        "seed=13 #0-69.8, 1-70.8, 2-69, 9-70.50, 26122021-71.48\n",
        "import os\n",
        "import numpy as np\n",
        "import tensorflow as tf\n",
        "import random as rn\n",
        "from catboost import CatBoostClassifier\n",
        "\n",
        "os.environ['PYTHONHASHSEED']=str(seed)\n",
        "np.random.seed(seed)\n",
        "rn.seed(seed)\n",
        "#tf.set_random_seed(seed)\n",
        "tf.random.set_seed(seed)\n",
        "n_splits = 5\n",
        "\n",
        "skf = StratifiedKFold(n_splits=n_splits, shuffle=True, random_state=seed)"
      ]
    },
    {
      "cell_type": "code",
      "source": [
        "for seed in range(13,14):\n",
        "                    print(\"\\n\\n******************************************SEED\", seed,\"\\n\")\n",
        "                    os.environ['PYTHONHASHSEED']=str(seed)\n",
        "                    np.random.seed(seed)\n",
        "                    rn.seed(seed)\n",
        "                    #tf.set_random_seed(seed)\n",
        "                    tf.random.set_seed(seed)\n",
        "\n",
        "                    n_splits = 5\n",
        "\n",
        "                    skf = StratifiedKFold(n_splits=n_splits, shuffle=True, random_state=seed)\n",
        "                    c=np.zeros([5,5])\n",
        "                    cm=[]\n",
        "                    i = 0\n",
        "                    acc=[]\n",
        "                    total=0\n",
        "                    for train_idx, test_idx in skf.split(X, Y):\n",
        "                      X_train = X[train_idx]\n",
        "                      Y_train = Y_onehot[train_idx]\n",
        "                      X_test = X[test_idx]\n",
        "                      Y_test = Y_onehot[test_idx]\n",
        "\n",
        "\n",
        "                      \n",
        "                      unique_elements, counts = np.unique(Y_train, return_counts=True)\n",
        "                      from imblearn.over_sampling import ADASYN\n",
        "                      from imblearn.combine import SMOTEENN\n",
        "                      from collections import Counter\n",
        "                      counts = Counter(Y_train.reshape(Y_train.shape[0]))\n",
        "                      print(counts)\n",
        "                      sm = SMOTE(random_state=seed)#, sampling_strategy= {0:int(counts[0]*1), 1:int(counts[1]*1), 2:counts[2], 3:int(counts[3]*1), 4:int(counts[4]*2.5)})\n",
        "\n",
        "\n",
        "                      X_train_res,Y_train_res=X_train,Y_train#sm.fit_resample(X_train,Y_train)\n",
        "\n",
        "                      from lightgbm import LGBMClassifier\n",
        "                      from sklearn import metrics\n",
        "                      from sklearn.metrics import accuracy_score, classification_report\n",
        "                      \n",
        "                      \n",
        "                      from catboost import CatBoostClassifier\n",
        "\n",
        "                      model = CatBoostClassifier(verbose=0)#random_state=seed,   iterations=1000,          task_type=\"GPU\", devices='0',verbose=0)\n",
        "                      #####model = LGBMClassifier(random_state=seed)\n",
        "                      model.fit(X_train_res, Y_train_res)\n",
        "                      y_pred_cat = model.predict(X_test)\n",
        "                      \n",
        "                      print(\"Accuracy: \", metrics.accuracy_score(Y_test, y_pred_cat))\n",
        "                      Accuracy5 =  \"CatBoost \"+str(metrics.accuracy_score(Y_test, y_pred_cat))\n",
        "                      c1=confusion_matrix(Y_test, y_pred_cat)\n",
        "                      print(confusion_matrix(Y_test, y_pred_cat))\n",
        "                      total += metrics.accuracy_score(Y_test, y_pred_cat)\n",
        "                      acc.append(metrics.accuracy_score(Y_test, y_pred_cat))\n",
        "                      i += 1\n",
        "                      cm.append( np.asarray(c1))\n",
        "                      c += np.asarray(c1)\n",
        "                    print('Average Accuracy: ', total/n_splits) \n",
        "\n",
        "                    # acc confidence interval for 52 genes\n",
        "                    import numpy as np\n",
        "                    acc= np.asarray(acc)\n",
        "                    print(\"acc : %0.3f (+/- %0.3f)\" % (acc.mean(), acc.std() * 1.96))\n",
        "\n",
        "                    "
      ],
      "metadata": {
        "id": "wT6mHCzdBW39"
      },
      "execution_count": null,
      "outputs": []
    },
    {
      "cell_type": "code",
      "source": [],
      "metadata": {
        "id": "GWX_bF-0BXJv"
      },
      "execution_count": null,
      "outputs": []
    },
    {
      "cell_type": "code",
      "execution_count": null,
      "metadata": {
        "id": "kC_422FY8kF4"
      },
      "outputs": [],
      "source": [
        "precision1 = []\n",
        "precision2 = []\n",
        "precision3 =[]\n",
        "precision4=[]\n",
        "precision5 =[]\n",
        "recall1 =[]\n",
        "recall2= []\n",
        "recall3=[]\n",
        "recall4=[]\n",
        "recall5=[]\n",
        "f1score1 =[]\n",
        "f1score2 =[]\n",
        "f1score3 =[]\n",
        "f1score4 =[]\n",
        "f1score5 =[]\n",
        "\n",
        "for i in range(1,6):\n",
        "   conf = cm[i-1]\n",
        "   for j in range(1,6):\n",
        "        p=eval(\"precision\"+str(j))\n",
        "        r=eval(\"recall\"+str(j))\n",
        "        f=eval(\"f1score\"+str(j))\n",
        "        p1=conf[j-1][j-1]/sum(conf[j-1][k] for k in range(0,5) )\n",
        "        r1=conf[j-1][j-1]/sum(conf[k][j-1] for k in range(0,5))\n",
        "        #print(p1,r1)\n",
        "        p.append(p1)\n",
        "        r.append(r1)\n",
        "        f.append((2*p1*r1)/(p1+r1))\n",
        "        \n",
        "\n",
        "import seaborn as sns\n",
        "sns.set()#style=\"whitegrid\")\n",
        "import pandas as pd\n",
        "result = [                \n",
        "                       ['Precision',precision1], \n",
        "                       ['Precision',precision2],\n",
        "                       ['Precision',precision3],\n",
        "                       ['Precision',precision4],\n",
        "                       ['Precision',precision5],\n",
        "\n",
        "                       ['Recall',recall1], \n",
        "                       ['Recall',recall2],\n",
        "                       ['Recall',recall3],\n",
        "                       ['Recall',recall4],\n",
        "                       ['Recall',recall5],\n",
        "\n",
        "                       ['F1-Score',f1score1], \n",
        "                       ['F1-Score',f1score2],\n",
        "                       ['F1-Score',f1score3],\n",
        "                       ['F1-Score',f1score4],\n",
        "                       ['F1-Score',f1score5]              ]\n",
        "#result = np.asarray(result)\n",
        "#print(result, result.size)\n",
        "\n",
        "\n",
        "\n",
        "xLabels = ['Basal']*5 + ['Her2']*5 + ['LumA']*5 +['lumB']*5 +['Normal']*5\n",
        "xLabels  = ['All Classes']*5+xLabels * 3\n",
        "\n",
        "finalResult  = pd.DataFrame({ 'Metric': ['Accuracy']*5+[i[0] for i in result for j in range(5)], \n",
        "                             'value':list(acc)+[j for i in result for j in i[1]], 'Labels': xLabels })\n",
        "           \n",
        "my_pal = {\"Accuracy\": \"turquoise\", \"Precision\": \"cornflowerblue\", \"Recall\":\"violet\", \"F1-Score\": \"coral\"}\n",
        "\n",
        "\n",
        "ax = sns.boxplot(x= \"Labels\", y = \"value\", hue = \"Metric\"  , data = finalResult, linewidth=2, orient=\"v\", palette=my_pal)\n",
        "\n",
        "plt.ylabel('Metrics Score')\n",
        "plt.xlabel('Breast Cancer Subtype')\n",
        "plt.ylim(0.0,1.025)\n",
        "ax.xaxis.grid(True)\n",
        "plt.savefig('figures/TCGAboxPlotMethylRF.png', dpi = 600)\n"
      ]
    },
    {
      "cell_type": "code",
      "execution_count": null,
      "metadata": {
        "id": "ldJv89dg8kfn"
      },
      "outputs": [],
      "source": [
        "from matplotlib import pyplot as plt\n",
        "!pip install mlxtend --upgrade --no-deps\n",
        "from mlxtend.plotting import plot_confusion_matrix\n",
        "import numpy as np\n",
        "plt.figure()\n",
        "\n",
        "\n",
        "fig, ax = plot_confusion_matrix(conf_mat=c.astype(int),\n",
        "                                colorbar=True,\n",
        "                                show_absolute=True,\n",
        "                                show_normed=True, class_names = ['Basal', 'Her2', 'LumA', 'LumB', 'Normal'])\n",
        "\n",
        "#plt.show()\n",
        "plt.savefig('figures/TCGACM_methyRF.png', bbox_inches = 'tight', dpi = 600)"
      ]
    },
    {
      "cell_type": "code",
      "execution_count": null,
      "metadata": {
        "id": "DMxW6LIgLah-"
      },
      "outputs": [],
      "source": [
        "c=c.astype(int)\n",
        "total=c.sum(axis=1).astype(int)\n",
        "total[4]"
      ]
    },
    {
      "cell_type": "code",
      "execution_count": null,
      "metadata": {
        "id": "CunXEVXM8kmL"
      },
      "outputs": [],
      "source": [
        "import seaborn as sns\n",
        "from sklearn.metrics import classification_report, confusion_matrix\n",
        "from sklearn.metrics import classification_report\n",
        "y_true=np.asarray([0]*(total[0])+[1] *(total[1])+[2]*(total[2])+[3]*(total[3])+ [4]*(total[4]))\n",
        "y_pred = np.asarray([0]*c[0,0]+[1]*c[0,1]+[2]*c[0,2]+[3]*c[0,3]+[4]*c[0,4]+\n",
        "                    [0]*c[1,0]+[1]*c[1,1]+[2]*c[1,2]+[3]*c[1,3]+[4]*c[1,4]+\n",
        "                    [0]*c[2,0]+[1]*c[2,1]+[2]*c[2,2]+[3]*c[2,3]+[4]*c[2,4]+\n",
        "                    [0]*c[3,0]+[1]*c[3,1]+[2]*c[3,2]+[3]*c[3,3]+[4]*c[3,4]+\n",
        "                   [0]*c[4,0]+[1]*c[4,1]+[2]*c[4,2]+[3]*c[4,3]+[4]*c[4,4])\n",
        "print(classification_report(y_true, y_pred, target_names=['Basal', 'Her2', 'LumA', 'LumB', 'Normal'],digits=5,output_dict=True))\n",
        "clf_report=classification_report(y_true, y_pred, target_names=['Basal', 'Her2', 'LumA', 'LumB', 'Normal'],digits=5,output_dict=True)\n",
        "\n",
        "\n",
        "import pandas as pd\n",
        "\n",
        "fig = plt.figure(figsize=(6,4))\n",
        "sns.heatmap(pd.DataFrame(clf_report).iloc[:-1, :].T, annot=True, fmt='.3g', center = True)\n",
        "plt.savefig('figures/TCGAHeatmapRF.png',dpi=600, bbox_inches = \"tight\")\n",
        "\n",
        "plt.show()"
      ]
    },
    {
      "cell_type": "code",
      "execution_count": null,
      "metadata": {
        "id": "uLMmJqcURC0r"
      },
      "outputs": [],
      "source": []
    },
    {
      "cell_type": "markdown",
      "metadata": {
        "id": "rn3K2902gmNN"
      },
      "source": [
        "#SHAP"
      ]
    },
    {
      "cell_type": "code",
      "execution_count": null,
      "metadata": {
        "id": "DAyTEjtQLxqy"
      },
      "outputs": [],
      "source": [
        " !pip install catboost"
      ]
    },
    {
      "cell_type": "code",
      "execution_count": null,
      "metadata": {
        "id": "tbAy-bTHMXHv"
      },
      "outputs": [],
      "source": [
        "from catboost import CatBoostClassifier"
      ]
    },
    {
      "cell_type": "code",
      "execution_count": null,
      "metadata": {
        "id": "fEkYo1InTF9n"
      },
      "outputs": [],
      "source": [
        "total = 0\n",
        "i = 0\n",
        "import numpy as np\n",
        "from sklearn.linear_model import LogisticRegression\n",
        "from sklearn.naive_bayes import GaussianNB\n",
        "if True:\n",
        "  X_train = X\n",
        "  Y_train = Y_onehot\n",
        "\n",
        "  from imblearn.over_sampling import ADASYN\n",
        "  sm = SMOTE(random_state=seed)\n",
        "  X_train_res,Y_train_res=sm.fit_resample(X_train,Y_train)\n",
        "\n",
        "  from catboost import CatBoostClassifier\n",
        "  model = CatBoostClassifier(random_state=seed, iterations=2000, task_type=\"GPU\", devices='0',verbose=0)\n",
        "  \n",
        "  \n",
        "  model.fit(X_train_res, Y_train_res) \n",
        "  #model.fit(X_train_res, Y_train_res)\n",
        "  print(\"done\")\n",
        "  #X_test = np.reshape(X_test.shape[0])\n",
        "  y_pred_cat = model.predict(X_train)\n",
        "  print(\"Accuracy: \", metrics.accuracy_score(Y_train, y_pred_cat))\n",
        "  Accuracy5 =  \"CatBoost \"+str(metrics.accuracy_score(Y_train, y_pred_cat))\n",
        "  print(confusion_matrix(Y_train, y_pred_cat))\n",
        "  total += metrics.accuracy_score(Y_train, y_pred_cat)\n",
        "  i += 1\n",
        "\n",
        "print('Average Accuracy: ', total/1)"
      ]
    },
    {
      "cell_type": "code",
      "execution_count": null,
      "metadata": {
        "id": "v_4EhNhco4dt"
      },
      "outputs": [],
      "source": [
        "!pip install shap"
      ]
    },
    {
      "cell_type": "code",
      "execution_count": null,
      "metadata": {
        "id": "M_2u12QsNtR9"
      },
      "outputs": [],
      "source": [
        "import shap"
      ]
    },
    {
      "cell_type": "code",
      "execution_count": null,
      "metadata": {
        "id": "mJe57VjGt7H6"
      },
      "outputs": [],
      "source": [
        "import numpy as np\n",
        "np.random.seed(seed)\n",
        "\n",
        "import sklearn\n",
        "import shap\n",
        "from sklearn.model_selection import train_test_split\n",
        "\n",
        "# print the JS visualization code to the notebook\n",
        "shap.initjs()\n",
        "\n",
        "#explainer = shap.TreeExplainer(model, X)\n",
        "\n",
        "# use Kernel SHAP to explain test set predictions\n",
        "#explainer = shap.KernelExplainer(classifier.predict, X_train_res, random_state=seed)\n",
        "#shap_values = explainer.shap_values(X_test, nsamples=100)\n",
        "\n"
      ]
    },
    {
      "cell_type": "code",
      "execution_count": null,
      "metadata": {
        "id": "VtC-fsQhK35S"
      },
      "outputs": [],
      "source": [
        "explainer = shap.KernelExplainer(model.predict_proba, X, random_state=seed) #clf.predict_proba "
      ]
    },
    {
      "cell_type": "code",
      "execution_count": null,
      "metadata": {
        "id": "ov8y4PFZLDZi"
      },
      "outputs": [],
      "source": [
        "#explainer = shap.TreeExplainer(model, X)"
      ]
    },
    {
      "cell_type": "code",
      "execution_count": null,
      "metadata": {
        "id": "-lw5OwPxLFSG"
      },
      "outputs": [],
      "source": [
        "seed"
      ]
    },
    {
      "cell_type": "code",
      "execution_count": null,
      "metadata": {
        "id": "bcL3IKTat7Vb"
      },
      "outputs": [],
      "source": [
        "import numpy as np  \n",
        "np.random.seed(seed)   \n",
        "shap_values = explainer.shap_values(X, nsamples=450, random_state=seed)   \n",
        "#explainer.shap_values(Pool(X, y, cat_features=cat_features))   "
      ]
    },
    {
      "cell_type": "code",
      "execution_count": null,
      "metadata": {
        "id": "mZRJoxQLuhxn"
      },
      "outputs": [],
      "source": [
        "#from sklearn.externals import joblib\n",
        "#shap_values = ex.shap_values(X_test.iloc[0, :])\n",
        "import pickle\n",
        "filename = 'shapFinal52' \n",
        "outfile = open(filename,'wb')\n",
        "pickle.dump(explainer,outfile) \n",
        "pickle.dump(shap_values,outfile)\n",
        "outfile.close()"
      ]
    },
    {
      "cell_type": "code",
      "execution_count": null,
      "metadata": {
        "id": "ywd8jZQ7I9f_"
      },
      "outputs": [],
      "source": [
        "import shap\n",
        "#from sklearn.externals import joblib\n",
        "#shap_values = ex.shap_values(X_test.iloc[0, :])\n",
        "import pickle\n",
        "filename = 'shapFinal52'\n",
        "outfile = open(filename,'rb')\n",
        "explainer = pickle.load(outfile)\n",
        "shap_values = pickle.load(outfile)\n",
        "outfile.close()"
      ]
    },
    {
      "cell_type": "code",
      "execution_count": null,
      "metadata": {
        "id": "U-SBO3imI1B8"
      },
      "outputs": [],
      "source": [
        "X_test=X\n",
        "Y_test=Y_onehot"
      ]
    },
    {
      "cell_type": "code",
      "execution_count": null,
      "metadata": {
        "id": "dfdKhWN7JzGt"
      },
      "outputs": [],
      "source": [
        "len(shap_values[0][0])"
      ]
    },
    {
      "cell_type": "code",
      "execution_count": null,
      "metadata": {
        "id": "mc7nXyh2t7Y3"
      },
      "outputs": [],
      "source": [
        "#shap.initjs()\n",
        "# plot the SHAP values for the Setosa output of the first instance\n",
        "#shap.force_plot(explainer.expected_value[0], shap_values[0][3,:], X_test.iloc[3,:])"
      ]
    },
    {
      "cell_type": "code",
      "execution_count": null,
      "metadata": {
        "id": "wfP-z1bGs7FL"
      },
      "outputs": [],
      "source": [
        "shap.summary_plot(shap_values, X_test, feature_names = dfFinal.columns, max_display=250, class_names=['Basal', 'Her2', 'LuminalA', 'LuminalB', 'Normal'], show=False)\n",
        "plt.savefig('shap_Final52.png', dpi=600, bbox_inches='tight')\n",
        "plt.show()\n",
        "#['S100Z', 'MSLNL', 'BCL10', 'WDR92', 'ACBD4', 'KLHDC4', 'SCARNA22', 'AP4S1', 'KIAA2026', 'L3HYPDH', 'SNORA19|ENSG00000251974.1', 'NDRG3', 'CKMT1A', 'KATNB1', 'MRPL21','RPL8', 'AFMID', 'RPS20P22', 'AHI1', 'RN7SKP89'\n",
        "#, 'MIR1208', 'GAL', 'SLC2A14', 'SNORA76|ENSG00000266402.2', 'FAM92A1', 'CACNG5', 'SGSH', 'STARD3','DHCR7', 'ZHX1']\n",
        "#'SNORA8|ENSG00000207410.1', 'MIR3141', 'SH3YL1', 'ALOX12B', 'ARL5C', 'TUBA1A', 'RPS6KC1'"
      ]
    },
    {
      "cell_type": "code",
      "execution_count": null,
      "metadata": {
        "id": "UYLOEkmXX4zh"
      },
      "outputs": [],
      "source": [
        "X_test0= np.asarray([X_test[i] for i in range(X_test.shape[0]) if Y_test[i] == 0 ])\n",
        "index0= [i for i in range(X_test.shape[0]) if Y_test[i] == 0 ]\n",
        "X_test1= np.asarray([X_test[i] for i in range(X_test.shape[0]) if Y_test[i] == 1 ])\n",
        "index1= [i for i in range(X_test.shape[0]) if Y_test[i] == 1 ]\n",
        "X_test2= np.asarray([X_test[i] for i in range(X_test.shape[0]) if Y_test[i] == 2 ])\n",
        "index2= [i for i in range(X_test.shape[0]) if Y_test[i] == 2 ]\n",
        "X_test3= np.asarray([X_test[i] for i in range(X_test.shape[0]) if Y_test[i] == 3 ])\n",
        "index3= [i for i in range(X_test.shape[0]) if Y_test[i] == 3 ]\n",
        "X_test4= np.asarray([X_test[i] for i in range(X_test.shape[0]) if Y_test[i] == 4 ])\n",
        "index4= [i for i in range(X_test.shape[0]) if Y_test[i] == 4 ]\n",
        "\n"
      ]
    },
    {
      "cell_type": "code",
      "execution_count": null,
      "metadata": {
        "id": "j_9AmixdN9zJ"
      },
      "outputs": [],
      "source": [
        "X_test0.shape, np.array(index0).shape"
      ]
    },
    {
      "cell_type": "code",
      "execution_count": null,
      "metadata": {
        "id": "8XcR6ka3L3Pf"
      },
      "outputs": [],
      "source": [
        "genes_52=dfFinal.columns"
      ]
    },
    {
      "cell_type": "code",
      "execution_count": null,
      "metadata": {
        "id": "A-tgVm6XJbAJ"
      },
      "outputs": [],
      "source": [
        "shap.summary_plot(shap_values[0][index0], np.asarray(X_test0), feature_names = genes_52, max_display=10, show=False, color_bar=False)\n",
        "plt.title(\"BASAL\", loc='right')\n",
        "plt.savefig('shap52_basal_onlyBasalPatients.png', dpi=600, bbox_inches='tight')\n",
        "plt.show()"
      ]
    },
    {
      "cell_type": "code",
      "execution_count": null,
      "metadata": {
        "id": "3wDuAlofUYe1"
      },
      "outputs": [],
      "source": [
        "shap.summary_plot(shap_values[0], X_test, feature_names = genes_52, max_display=20, show=False, color_bar=False)\n",
        "plt.title(\"BASAL\", loc='right')\n",
        "plt.savefig('shap52_basal_allPatients.png', dpi=600, bbox_inches='tight')\n",
        "plt.show()\n",
        "#['S100Z', 'MSLNL', 'BCL10', 'WDR92', 'ACBD4', 'KLHDC4', 'SCARNA22', 'AP4S1', 'KIAA2026', 'L3HYPDH', 'SNORA19|ENSG00000251974.1', 'NDRG3', 'CKMT1A', 'KATNB1', 'MRPL21','RPL8', 'AFMID', 'RPS20P22', 'AHI1', 'RN7SKP89']#, 'MIR1208', 'GAL', 'SLC2A14', '']"
      ]
    },
    {
      "cell_type": "code",
      "execution_count": null,
      "metadata": {
        "id": "Ylw-zGe_JfeE"
      },
      "outputs": [],
      "source": [
        "shap.summary_plot(shap_values[1][index1], np.asarray(X_test1), feature_names = genes_52, max_display=10, show=False, color_bar=False)\n",
        "plt.title(\"HER2\", loc='right')\n",
        "plt.savefig('shap52_her2_onlyHer2Patients.png', dpi=600, bbox_inches='tight')\n",
        "plt.show()"
      ]
    },
    {
      "cell_type": "code",
      "execution_count": null,
      "metadata": {
        "id": "c27I45chUu9J"
      },
      "outputs": [],
      "source": [
        "shap.summary_plot(shap_values[1], X_test, feature_names = genes_52, max_display=30, show=False, color_bar=False)\n",
        "plt.title(\"HER2\", loc='right')\n",
        "plt.savefig('shap52_her2_allPatients.png', dpi=600, bbox_inches='tight')\n",
        "plt.show()\n",
        "#['S100Z', 'MSLNL', 'BCL10', 'WDR92', 'ACBD4', 'KLHDC4', 'SCARNA22', 'AP4S1', 'KIAA2026', 'L3HYPDH', 'SNORA19|ENSG00000251974.1', 'NDRG3', 'CKMT1A', 'KATNB1', 'MRPL21','RPL8', 'AFMID', 'RPS20P22', 'AHI1', 'RN7SKP89']#, 'MIR1208', 'GAL', 'SLC2A14', '']"
      ]
    },
    {
      "cell_type": "code",
      "execution_count": null,
      "metadata": {
        "id": "ccHF_82JJhzl"
      },
      "outputs": [],
      "source": [
        "shap.summary_plot(shap_values[2][index2], np.asarray(X_test2), feature_names = genes_52, max_display=20, show=False, color_bar=False)\n",
        "plt.title(\"LUMA\", loc='right')\n",
        "plt.savefig('shap52_lumA_onlyLumAPatients.png', dpi=600, bbox_inches='tight')\n",
        "plt.show()"
      ]
    },
    {
      "cell_type": "code",
      "execution_count": null,
      "metadata": {
        "id": "5R9L52vlU-Xr"
      },
      "outputs": [],
      "source": [
        "shap.summary_plot(shap_values[2], X_test, feature_names = genes_52, max_display=20, show=False, color_bar=False)\n",
        "plt.title(\"LUMA\", loc='right')\n",
        "plt.savefig('shap52_lumA_allPatients.png', dpi=600, bbox_inches='tight')\n",
        "plt.show()\n",
        "#['S100Z', 'MSLNL', 'BCL10', 'WDR92', 'ACBD4', 'KLHDC4', 'SCARNA22', 'AP4S1', 'KIAA2026', 'L3HYPDH', 'SNORA19|ENSG00000251974.1', 'NDRG3', 'CKMT1A', 'KATNB1', 'MRPL21','RPL8', 'AFMID', 'RPS20P22', 'AHI1', 'RN7SKP89']#, 'MIR1208', 'GAL', 'SLC2A14', '']\n"
      ]
    },
    {
      "cell_type": "code",
      "execution_count": null,
      "metadata": {
        "id": "IYOoMxHxb8qO"
      },
      "outputs": [],
      "source": [
        "#CORRECT\n",
        "shap.summary_plot(shap_values[3][index3], np.asarray(X_test3), feature_names = genes_52, max_display=20, show=False, color_bar=False)\n",
        "plt.title(\"LUMB\", loc='right')\n",
        "plt.savefig('shap52_lumB_onlyLumBPatients.png', dpi=600, bbox_inches='tight')\n",
        "plt.show()"
      ]
    },
    {
      "cell_type": "code",
      "execution_count": null,
      "metadata": {
        "id": "hJqutzaMVLHW"
      },
      "outputs": [],
      "source": [
        "#CORRECT\n",
        "shap.summary_plot(shap_values[3], X_test, feature_names = genes_52, max_display=20, show=False, color_bar=False)\n",
        "plt.title(\"LUMB\", loc='right')\n",
        "plt.savefig('shap52_lumB_allPatients.png', dpi=600, bbox_inches='tight')\n",
        "plt.show()\n",
        "#['S100Z', 'MSLNL', 'BCL10', 'WDR92', 'ACBD4', 'KLHDC4', 'SCARNA22', 'AP4S1', 'KIAA2026', 'L3HYPDH', 'SNORA19|ENSG00000251974.1', 'NDRG3', 'CKMT1A', 'KATNB1', 'MRPL21','RPL8', 'AFMID', 'RPS20P22', 'AHI1', 'RN7SKP89']#, 'MIR1208', 'GAL', 'SLC2A14', '']"
      ]
    },
    {
      "cell_type": "code",
      "execution_count": null,
      "metadata": {
        "id": "dWBmiNmNJm2y"
      },
      "outputs": [],
      "source": [
        "shap.summary_plot(shap_values[4][index4], np.asarray(X_test4), feature_names = genes_52, max_display=20, show=False)\n",
        "plt.title(\"NORMAL\", loc='right')\n",
        "plt.savefig('shap52_normal_onlyNormalPatients.png', dpi=600, bbox_inches='tight')\n",
        "plt.show()"
      ]
    },
    {
      "cell_type": "code",
      "execution_count": null,
      "metadata": {
        "id": "vtkstWYZVVo1"
      },
      "outputs": [],
      "source": [
        "shap.summary_plot(shap_values[4], X_test, feature_names = genes_52, max_display=20, show=False)\n",
        "plt.title(\"NORMAL\", loc='right')\n",
        "plt.savefig('shap52_normal_allPatients.png', dpi=600, bbox_inches='tight')\n",
        "plt.show()"
      ]
    },
    {
      "cell_type": "code",
      "execution_count": null,
      "metadata": {
        "id": "esXE4oY1o4ju"
      },
      "outputs": [],
      "source": [
        "\n",
        "\n"
      ]
    },
    {
      "cell_type": "code",
      "execution_count": null,
      "metadata": {
        "id": "tIYg0kCIo4qv"
      },
      "outputs": [],
      "source": []
    }
  ],
  "metadata": {
    "colab": {
      "provenance": []
    },
    "kernelspec": {
      "display_name": "Python 3",
      "name": "python3"
    },
    "accelerator": "GPU",
    "gpuClass": "standard"
  },
  "nbformat": 4,
  "nbformat_minor": 0
}