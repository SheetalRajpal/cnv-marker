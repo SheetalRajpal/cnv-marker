{
  "cells": [
    {
      "cell_type": "code",
      "execution_count": null,
      "metadata": {
        "id": "yEiPBvY6Kzjy"
      },
      "outputs": [],
      "source": [
        "from google.colab import drive\n",
        "drive.mount('/content/drive')\n",
        "import os\n",
        "os.chdir('/content/drive/My Drive/CNV/')"
      ]
    },
    {
      "cell_type": "code",
      "execution_count": null,
      "metadata": {
        "id": "5zSJEqkFK-iq"
      },
      "outputs": [],
      "source": [
        "import pandas as pd\n",
        "from collections import Counter"
      ]
    },
    {
      "cell_type": "code",
      "execution_count": null,
      "metadata": {
        "id": "rwHjYnDrLIYI"
      },
      "outputs": [],
      "source": [
        "pd.set_option('display.max_colwidth', None)"
      ]
    },
    {
      "cell_type": "code",
      "execution_count": null,
      "metadata": {
        "id": "I8dhjbKREhEj"
      },
      "outputs": [],
      "source": [
        "!pip install venn\n",
        "from venn import pseudovenn, venn"
      ]
    },
    {
      "cell_type": "code",
      "execution_count": null,
      "metadata": {
        "id": "f96WUd9U4-QN"
      },
      "outputs": [],
      "source": [
        "minPatients= 0.10"
      ]
    },
    {
      "cell_type": "code",
      "execution_count": null,
      "metadata": {
        "id": "M8z8SxS3Eqf2"
      },
      "outputs": [],
      "source": [
        "subtype = 'Her2'\n",
        "common_all_seeds = []\n",
        "seed = 1030\n",
        "\n",
        "elrp = pd.read_csv('Attributions68NoNORMDRP0 Patientwise/seed' + str(seed) + '/elrp_' + subtype + '_neg.csv')\n",
        "deeplift = pd.read_csv('Attributions68NoNORMDRP0 Patientwise/seed' + str(seed) + '/deeplift_' + subtype+ '_neg.csv')\n",
        "grad = pd.read_csv('Attributions68NoNORMDRP0 Patientwise/seed' + str(seed) + '/gradStarinput_' + subtype+ '_neg.csv')\n",
        "intgrad = pd.read_csv('Attributions68NoNORMDRP0 Patientwise/seed' + str(seed) + '/intgrad_' + subtype+ '_neg.csv')\n",
        "\n",
        "\n",
        "elrp = elrp[elrp['Frequency'] >= round(minPatients *67)]\n",
        "deeplift = deeplift[deeplift['Frequency'] >= round(minPatients*67)]\n",
        "grad = grad[grad['Frequency'] >= round(minPatients*67)]\n",
        "intgrad = intgrad[intgrad['Frequency'] >= round(minPatients*67)]\n"
      ]
    },
    {
      "cell_type": "code",
      "execution_count": null,
      "metadata": {
        "id": "B2Zx9byoFkov"
      },
      "outputs": [],
      "source": [
        "print(len(list(set(elrp['Her2Genes']))), \n",
        "      len(list(set(deeplift['Her2Genes']))), \n",
        "      len(list(set(grad['Her2Genes']))), \n",
        "      len(list(set(intgrad['Her2Genes']))), \n",
        "      )\n",
        "#1717 1369 1430 1138 1999 2031"
      ]
    },
    {
      "cell_type": "code",
      "execution_count": null,
      "metadata": {
        "id": "zui1sCP4E5Cg"
      },
      "outputs": [],
      "source": [
        "genes_dict_her2 = {\n",
        "    \n",
        "    'Grad*Input': set(grad['Her2Genes']),\n",
        "    'DeepLift': set(deeplift['Her2Genes']),\n",
        "    'ELRP': set(elrp['Her2Genes']),\n",
        "    \n",
        "    'IntegratedGrad':set(intgrad['Her2Genes'])\n",
        "}\n",
        "venn(genes_dict_her2, cmap='coolwarm_r', figsize=(11,11), legend_loc=\"upper left\")"
      ]
    },
    {
      "cell_type": "code",
      "execution_count": null,
      "metadata": {
        "id": "A55TgnFrbtaP"
      },
      "outputs": [],
      "source": [
        "seed_cutoff = 5\n",
        "method_cutoff = 3"
      ]
    },
    {
      "cell_type": "markdown",
      "metadata": {
        "id": "HhM31goDLEwy"
      },
      "source": [
        "# Her2"
      ]
    },
    {
      "cell_type": "code",
      "execution_count": null,
      "metadata": {
        "id": "mn9uFiI8LF5M"
      },
      "outputs": [],
      "source": [
        "subtype = 'Her2'\n",
        "common_all_seeds = []\n",
        "minPatients= 0.23\n",
        "for seed in (list(range(5)) + [55, 666, 7777, 88888, 999999]):\n",
        "  elrp = pd.read_csv('Attributions68NoNORMDRP0 Patientwise/seed' + str(seed) + '/elrp_' + subtype + '_neg.csv')\n",
        "  deeplift = pd.read_csv('Attributions68NoNORMDRP0 Patientwise/seed' + str(seed) + '/deeplift_' + subtype+ '_neg.csv')\n",
        "  grad = pd.read_csv('Attributions68NoNORMDRP0 Patientwise/seed' + str(seed) + '/gradStarinput_' + subtype+ '_neg.csv')\n",
        "  intgrad = pd.read_csv('Attributions68NoNORMDRP0 Patientwise/seed' + str(seed) + '/intgrad_' + subtype+ '_neg.csv')\n",
        "  \n",
        "  elrp = elrp[elrp['Frequency'] >= round(minPatients*67)]\n",
        "  deeplift = deeplift[deeplift['Frequency']  >= round(minPatients*67)]\n",
        "  grad = grad[grad['Frequency']  >= round(minPatients*67)]\n",
        "  intgrad = intgrad[intgrad['Frequency']  >=  round(minPatients*67)]\n",
        "  \n",
        "\n",
        "  methods = [elrp, deeplift, intgrad, grad]\n",
        "  common = []\n",
        "  for method in methods:\n",
        "    common += list(set(method[subtype+'Genes']))\n",
        "  common_pos = dict(Counter(common))\n",
        "  '''\n",
        "  elrp = pd.read_csv('Attributions68NoNORMDRP0 Patientwise/seed' + str(seed) + '/elrp_' + subtype + '_neg.csv')\n",
        "  deeplift = pd.read_csv('Attributions68NoNORMDRP0 Patientwise/seed' + str(seed) + '/deeplift_' + subtype+ '_neg.csv')\n",
        "  grad = pd.read_csv('Attributions68NoNORMDRP0 Patientwise/seed' + str(seed) + '/grad*input_' + subtype+ '_neg.csv')\n",
        "  intgrad = pd.read_csv('Attributions68NoNORMDRP0 Patientwise/seed' + str(seed) + '/intgrad_' + subtype+ '_neg.csv')\n",
        "  gradshap = pd.read_csv('Attributions68NoNORMDRP0 Patientwise/seed' + str(seed) + '/grad_shap_' + subtype+ '_neg.csv')\n",
        "  deepshap = pd.read_csv('Attributions68NoNORMDRP0 Patientwise/seed' + str(seed) + '/deep_shap_' + subtype+ '_neg.csv')\n",
        "\n",
        "  methods = [elrp, deeplift, grad, intgrad, gradshap, deepshap]\n",
        "  common = []\n",
        "  for method in methods:\n",
        "    common += list(set(method[subtype+'Genes']))\n",
        "  common_pos = dict(Counter(common))\n",
        "  '''\n",
        "\n",
        "  print(len(list(set([key for key, value in common_pos.items() if value >= method_cutoff]))))#, len(list(set([key for key, value in common_pos.items() if value == 6]))))  \n",
        "  common_all_seeds += list(set([key for key, value in common_pos.items() if value >= method_cutoff]))# + [key for key, value in common_pos.items() if value == 6]))"
      ]
    },
    {
      "cell_type": "code",
      "execution_count": null,
      "metadata": {
        "id": "MSDUfHc8Mpfc"
      },
      "outputs": [],
      "source": [
        "her2_genes = dict(Counter(common_all_seeds))\n",
        "her2_freq = dict(sorted(her2_genes.items(), key=lambda item: item[1], reverse=True))\n",
        "her2_freq_df = pd.DataFrame(her2_freq.items(), columns=[subtype+'Genes', 'Frequency'])"
      ]
    },
    {
      "cell_type": "code",
      "execution_count": null,
      "metadata": {
        "id": "ZSfQGPNhOv7l"
      },
      "outputs": [],
      "source": [
        "her2_freq_df[her2_freq_df['Frequency']>=1]"
      ]
    },
    {
      "cell_type": "markdown",
      "metadata": {
        "id": "4Y6KPLJU6yGF"
      },
      "source": [
        "# Luminal A"
      ]
    },
    {
      "cell_type": "code",
      "execution_count": null,
      "metadata": {
        "id": "v7OwKDbAQom7"
      },
      "outputs": [],
      "source": [
        "subtype = 'LumA'\n",
        "common_all_seeds = []\n",
        "\n",
        "minPatients= 0.27\n",
        "for seed in (list(range(5)) + [55, 666, 7777, 88888, 999999]):\n",
        "  elrp = pd.read_csv('Attributions68NoNORMDRP0 Patientwise/seed' + str(seed) + '/elrp_' + subtype + '_neg.csv')\n",
        "  deeplift = pd.read_csv('Attributions68NoNORMDRP0 Patientwise/seed' + str(seed) + '/deeplift_' + subtype+ '_neg.csv')\n",
        "  grad = pd.read_csv('Attributions68NoNORMDRP0 Patientwise/seed' + str(seed) + '/gradStarinput_' + subtype+ '_neg.csv')\n",
        "  intgrad = pd.read_csv('Attributions68NoNORMDRP0 Patientwise/seed' + str(seed) + '/intgrad_' + subtype+ '_neg.csv')\n",
        "\n",
        "  \n",
        "  elrp = elrp[elrp['Frequency']  >= round(minPatients*415)]\n",
        "  deeplift = deeplift[deeplift['Frequency']  >= round(minPatients*415)]\n",
        "  grad = grad[grad['Frequency']  >= round(minPatients*415)]\n",
        "  intgrad = intgrad[intgrad['Frequency']  >=  round(minPatients*415)]\n",
        "  \n",
        "\n",
        "  methods = [elrp, deeplift, intgrad, grad]\n",
        "  common = []\n",
        "  for method in methods:\n",
        "    common += list(set(method[subtype+'Genes']))\n",
        "  common_pos = dict(Counter(common))\n",
        "  \n",
        "  '''\n",
        "  elrp = pd.read_csv('Attributions68NoNORMDRP0 Patientwise/seed' + str(seed) + '/elrp_' + subtype + '_neg.csv')\n",
        "  deeplift = pd.read_csv('Attributions68NoNORMDRP0 Patientwise/seed' + str(seed) + '/deeplift_' + subtype+ '_neg.csv')\n",
        "  grad = pd.read_csv('Attributions68NoNORMDRP0 Patientwise/seed' + str(seed) + '/grad*input_' + subtype+ '_neg.csv')\n",
        "  intgrad = pd.read_csv('Attributions68NoNORMDRP0 Patientwise/seed' + str(seed) + '/intgrad_' + subtype+ '_neg.csv')\n",
        "  gradshap = pd.read_csv('Attributions68NoNORMDRP0 Patientwise/seed' + str(seed) + '/grad_shap_' + subtype+ '_neg.csv')\n",
        "  deepshap = pd.read_csv('Attributions68NoNORMDRP0 Patientwise/seed' + str(seed) + '/deep_shap_' + subtype+ '_neg.csv')\n",
        "\n",
        "  \n",
        "  methods = [elrp, deeplift, grad, intgrad, gradshap, deepshap]\n",
        "  common = []\n",
        "  for method in methods:\n",
        "    common += list(set(method[subtype+'Genes']))\n",
        "  common_pos = dict(Counter(common))\n",
        "  '''\n",
        "  print(len(list(set([key for key, value in common_pos.items() if value >= method_cutoff]))))#, len(list(set([key for key, value in common_pos.items() if value == 6]))))  \n",
        "  common_all_seeds += list(set([key for key, value in common_pos.items() if value >= method_cutoff]))# + [key for key, value in common_pos.items() if value == 6]))"
      ]
    },
    {
      "cell_type": "code",
      "execution_count": null,
      "metadata": {
        "id": "LwZ9eL2u7wWu"
      },
      "outputs": [],
      "source": [
        "luma_genes = dict(Counter(common_all_seeds))\n",
        "luma_freq = dict(sorted(luma_genes.items(), key=lambda item: item[1], reverse=True))\n",
        "luma_freq_df = pd.DataFrame(luma_freq.items(), columns=[subtype+'Genes', 'Frequency'])"
      ]
    },
    {
      "cell_type": "code",
      "execution_count": null,
      "metadata": {
        "id": "0mdKVHOJ7_QW"
      },
      "outputs": [],
      "source": [
        "luma_freq_df[luma_freq_df['Frequency']>=1]"
      ]
    },
    {
      "cell_type": "markdown",
      "metadata": {
        "id": "R_sfUnND8DUc"
      },
      "source": [
        "# Luminal B"
      ]
    },
    {
      "cell_type": "code",
      "execution_count": null,
      "metadata": {
        "id": "TaljdCkY8Gdd"
      },
      "outputs": [],
      "source": [
        "subtype = 'LumB'\n",
        "common_all_seeds = []\n",
        "minPatients= 0.22\n",
        "for seed in (list(range(5)) + [55, 666, 7777, 88888, 999999]):\n",
        "  elrp = pd.read_csv('Attributions68NoNORMDRP0 Patientwise/seed' + str(seed) + '/elrp_' + subtype + '_neg.csv')\n",
        "  deeplift = pd.read_csv('Attributions68NoNORMDRP0 Patientwise/seed' + str(seed) + '/deeplift_' + subtype+ '_neg.csv')\n",
        "  grad = pd.read_csv('Attributions68NoNORMDRP0 Patientwise/seed' + str(seed) + '/gradStarinput_' + subtype+ '_neg.csv')\n",
        "  intgrad = pd.read_csv('Attributions68NoNORMDRP0 Patientwise/seed' + str(seed) + '/intgrad_' + subtype+ '_neg.csv')\n",
        "  \n",
        "  elrp = elrp[elrp['Frequency']  >= round(minPatients*192)]\n",
        "  deeplift = deeplift[deeplift['Frequency']  >=  round(minPatients*192)]\n",
        "  grad = grad[grad['Frequency']  >=  round(minPatients*192)]\n",
        "  intgrad = intgrad[intgrad['Frequency']  >= round(minPatients*192)]\n",
        "  \n",
        "\n",
        "  methods = [elrp, deeplift, intgrad, grad]\n",
        "  common = []\n",
        "  for method in methods:\n",
        "    common += list(set(method[subtype+'Genes']))\n",
        "  common_pos = dict(Counter(common))\n",
        "  \n",
        "  '''\n",
        "  elrp = pd.read_csv('Attributions68NoNORMDRP0 Patientwise/seed' + str(seed) + '/elrp_' + subtype + '_neg.csv')\n",
        "  deeplift = pd.read_csv('Attributions68NoNORMDRP0 Patientwise/seed' + str(seed) + '/deeplift_' + subtype+ '_neg.csv')\n",
        "  grad = pd.read_csv('Attributions68NoNORMDRP0 Patientwise/seed' + str(seed) + '/gradStarinput_' + subtype+ '_neg.csv')\n",
        "  intgrad = pd.read_csv('Attributions68NoNORMDRP0 Patientwise/seed' + str(seed) + '/intgrad_' + subtype+ '_neg.csv')\n",
        "  gradshap = pd.read_csv('Attributions68NoNORMDRP0 Patientwise/seed' + str(seed) + '/grad_shap_' + subtype+ '_neg.csv')\n",
        "  deepshap = pd.read_csv('Attributions68NoNORMDRP0 Patientwise/seed' + str(seed) + '/deep_shap_' + subtype+ '_neg.csv')\n",
        "\n",
        "  methods = [elrp, deeplift, grad, intgrad, gradshap, deepshap]\n",
        "  common = []\n",
        "  for method in methods:\n",
        "    common += list(set(method[subtype+'Genes']))\n",
        "  common_pos = dict(Counter(common))\n",
        "  '''\n",
        "  print(len(list(set([key for key, value in common_pos.items() if value >= method_cutoff]))))#, len(list(set([key for key, value in common_pos.items() if value == 6]))))  \n",
        "  common_all_seeds += list(set([key for key, value in common_pos.items() if value >= method_cutoff]))#+ [key for key, value in common_pos.items() if value == 6]))"
      ]
    },
    {
      "cell_type": "code",
      "execution_count": null,
      "metadata": {
        "id": "f_xBRnb88KY1"
      },
      "outputs": [],
      "source": [
        "lumb_genes = dict(Counter(common_all_seeds))\n",
        "lumb_freq = dict(sorted(lumb_genes.items(), key=lambda item: item[1], reverse=True))\n",
        "lumb_freq_df = pd.DataFrame(lumb_freq.items(), columns=[subtype+'Genes', 'Frequency'])"
      ]
    },
    {
      "cell_type": "code",
      "execution_count": null,
      "metadata": {
        "id": "g1Er70pb8RdU"
      },
      "outputs": [],
      "source": [
        "lumb_freq_df[lumb_freq_df['Frequency']>=1] #BRF2"
      ]
    },
    {
      "cell_type": "markdown",
      "metadata": {
        "id": "OuUNKyuw8T--"
      },
      "source": [
        "# Basal"
      ]
    },
    {
      "cell_type": "code",
      "execution_count": null,
      "metadata": {
        "id": "fFiLAPyw8VHj"
      },
      "outputs": [],
      "source": [
        "subtype = 'Basal'\n",
        "common_all_seeds = []\n",
        "minPatients = 0.2\n",
        "for seed in (list(range(5)) + [55, 666, 7777, 88888, 999999]):\n",
        "  elrp = pd.read_csv('Attributions68NoNORMDRP0 Patientwise/seed' + str(seed) + '/elrp_' + subtype + '_neg.csv')\n",
        "  deeplift = pd.read_csv('Attributions68NoNORMDRP0 Patientwise/seed' + str(seed) + '/deeplift_' + subtype+ '_neg.csv')\n",
        "  grad = pd.read_csv('Attributions68NoNORMDRP0 Patientwise/seed' + str(seed) + '/gradStarinput_' + subtype+ '_neg.csv')\n",
        "  intgrad = pd.read_csv('Attributions68NoNORMDRP0 Patientwise/seed' + str(seed) + '/intgrad_' + subtype+ '_neg.csv')\n",
        "\n",
        "  \n",
        "  elrp = elrp[elrp['Frequency']  >= round(minPatients*135)]\n",
        "  deeplift = deeplift[deeplift['Frequency']  >= round(minPatients*135)]\n",
        "  grad = grad[grad['Frequency']  >= round(minPatients*135)]\n",
        "  intgrad = intgrad[intgrad['Frequency']  >= round(minPatients*135)]  \n",
        "\n",
        "  methods = [elrp, deeplift, intgrad, grad]\n",
        "  common = []\n",
        "  for method in methods:\n",
        "    common += list(set(method[subtype+'Genes']))\n",
        "  common_pos = dict(Counter(common))\n",
        "  \n",
        "  '''\n",
        "  elrp = pd.read_csv('Attributions68NoNORMDRP0 Patientwise/seed' + str(seed) + '/elrp_' + subtype + '_neg.csv')\n",
        "  deeplift = pd.read_csv('Attributions68NoNORMDRP0 Patientwise/seed' + str(seed) + '/deeplift_' + subtype+ '_neg.csv')\n",
        "  grad = pd.read_csv('Attributions68NoNORMDRP0 Patientwise/seed' + str(seed) + '/grad*input_' + subtype+ '_neg.csv')\n",
        "  intgrad = pd.read_csv('Attributions68NoNORMDRP0 Patientwise/seed' + str(seed) + '/intgrad_' + subtype+ '_neg.csv')\n",
        "  gradshap = pd.read_csv('Attributions68NoNORMDRP0 Patientwise/seed' + str(seed) + '/grad_shap_' + subtype+ '_neg.csv')\n",
        "  deepshap = pd.read_csv('Attributions68NoNORMDRP0 Patientwise/seed' + str(seed) + '/deep_shap_' + subtype+ '_neg.csv')\n",
        "\n",
        "  methods = [elrp, deeplift, grad, intgrad, gradshap, deepshap]\n",
        "  common = []\n",
        "  for method in methods:\n",
        "    common += list(set(method[subtype+'Genes']))\n",
        "  common_pos = dict(Counter(common))\n",
        "  '''\n",
        "  print(len(list(set([key for key, value in common_pos.items() if value >= method_cutoff]))))#, len(list(set([key for key, value in common_pos.items() if value == 6]))))  \n",
        "  common_all_seeds += list(set([key for key, value in common_pos.items() if value >= method_cutoff]))# + [key for key, value in common_pos.items() if value == 6]))"
      ]
    },
    {
      "cell_type": "code",
      "execution_count": null,
      "metadata": {
        "id": "IJVez2Mf8gLK"
      },
      "outputs": [],
      "source": [
        "basal_genes = dict(Counter(common_all_seeds))\n",
        "basal_freq = dict(sorted(basal_genes.items(), key=lambda item: item[1], reverse=True))\n",
        "basal_freq_df = pd.DataFrame(basal_freq.items(), columns=[subtype+'Genes', 'Frequency'])"
      ]
    },
    {
      "cell_type": "code",
      "execution_count": null,
      "metadata": {
        "id": "FcIo7AO_8qEz"
      },
      "outputs": [],
      "source": [
        "basal_freq_df[basal_freq_df['Frequency']>=1] #NOTCH"
      ]
    },
    {
      "cell_type": "markdown",
      "metadata": {
        "id": "s7BGuVE58tFi"
      },
      "source": [
        "# Normal"
      ]
    },
    {
      "cell_type": "code",
      "execution_count": null,
      "metadata": {
        "id": "Cibr2GRdnu3l"
      },
      "outputs": [],
      "source": [
        "0.1*22"
      ]
    },
    {
      "cell_type": "code",
      "execution_count": null,
      "metadata": {
        "id": "y1KAiWDS8rnx"
      },
      "outputs": [],
      "source": [
        "subtype = 'Normal'\n",
        "common_all_seeds = []\n",
        "minPatients= 0.25\n",
        "for seed in (list(range(5)) + [55, 666, 7777, 88888, 999999]):\n",
        "  elrp = pd.read_csv('Attributions68NoNORMDRP0 Patientwise/seed' + str(seed) + '/elrp_' + subtype + '_neg.csv')\n",
        "  deeplift = pd.read_csv('Attributions68NoNORMDRP0 Patientwise/seed' + str(seed) + '/deeplift_' + subtype+ '_neg.csv')\n",
        "  grad = pd.read_csv('Attributions68NoNORMDRP0 Patientwise/seed' + str(seed) + '/gradStarinput_' + subtype+ '_neg.csv')\n",
        "  intgrad = pd.read_csv('Attributions68NoNORMDRP0 Patientwise/seed' + str(seed) + '/intgrad_' + subtype+ '_neg.csv')  \n",
        "\n",
        "  elrp = elrp[elrp['Frequency']  >= round(minPatients*22)]\n",
        "  deeplift = deeplift[deeplift['Frequency']  >= round(minPatients*22)]\n",
        "  grad = grad[grad['Frequency']  >= round(minPatients*22)]\n",
        "  intgrad = intgrad[intgrad['Frequency']  >= round(minPatients*22)]\n",
        "  \n",
        "\n",
        "  methods = [elrp, deeplift,  intgrad, grad]\n",
        "  common = []\n",
        "  for method in methods:\n",
        "    common += list(set(method[subtype+'Genes']))\n",
        "  common_pos = dict(Counter(common))\n",
        "  \n",
        "  '''\n",
        "  elrp = pd.read_csv('Attributions68NoNORMDRP0 Patientwise/seed' + str(seed) + '/elrp_' + subtype + '_neg.csv')\n",
        "  deeplift = pd.read_csv('Attributions68NoNORMDRP0 Patientwise/seed' + str(seed) + '/deeplift_' + subtype+ '_neg.csv')\n",
        "  grad = pd.read_csv('Attributions68NoNORMDRP0 Patientwise/seed' + str(seed) + '/grad*input_' + subtype+ '_neg.csv')\n",
        "  intgrad = pd.read_csv('Attributions68NoNORMDRP0 Patientwise/seed' + str(seed) + '/intgrad_' + subtype+ '_neg.csv')\n",
        "  gradshap = pd.read_csv('Attributions68NoNORMDRP0 Patientwise/seed' + str(seed) + '/grad_shap_' + subtype+ '_neg.csv')\n",
        "  deepshap = pd.read_csv('Attributions68NoNORMDRP0 Patientwise/seed' + str(seed) + '/deep_shap_' + subtype+ '_neg.csv')\n",
        "\n",
        "  methods = [elrp, deeplift, grad, intgrad, gradshap, deepshap]\n",
        "  common = []\n",
        "  for method in methods:\n",
        "    common += list(set(method[subtype+'Genes']))\n",
        "  common_pos = dict(Counter(common))\n",
        "  '''\n",
        "  print(len(list(set([key for key, value in common_pos.items() if value >= method_cutoff]))))#, len(list(set([key for key, value in common_pos.items() if value == 6]))))  \n",
        "  common_all_seeds += list(set([key for key, value in common_pos.items() if value >= method_cutoff]))# + [key for key, value in common_pos.items() if value == 6]))"
      ]
    },
    {
      "cell_type": "code",
      "execution_count": null,
      "metadata": {
        "id": "rBJUXhqP8z1f"
      },
      "outputs": [],
      "source": [
        "normal_genes = dict(Counter(common_all_seeds))\n",
        "normal_freq = dict(sorted(normal_genes.items(), key=lambda item: item[1], reverse=True))\n",
        "normal_freq_df = pd.DataFrame(normal_freq.items(), columns=[subtype+'Genes', 'Frequency'])"
      ]
    },
    {
      "cell_type": "code",
      "execution_count": null,
      "metadata": {
        "id": "jk0Z50428_s1"
      },
      "outputs": [],
      "source": [
        "normal_freq_df[normal_freq_df['Frequency']>=1] #MYC"
      ]
    },
    {
      "cell_type": "code",
      "execution_count": null,
      "metadata": {
        "id": "DRJ9Crjoybo2"
      },
      "outputs": [],
      "source": [
        "z = list(\n",
        "    set(\n",
        "        list(normal_freq_df[normal_freq_df['Frequency']>=1]['NormalGenes'])\n",
        "         + list(basal_freq_df[basal_freq_df['Frequency']>=1]['BasalGenes'])\n",
        "          + list(lumb_freq_df[lumb_freq_df['Frequency']>=1]['LumBGenes'])\n",
        "           + list(luma_freq_df[luma_freq_df['Frequency']>=1]['LumAGenes'])\n",
        "            + list(her2_freq_df[her2_freq_df['Frequency']>=1]['Her2Genes'])\n",
        "    )\n",
        ")"
      ]
    },
    {
      "cell_type": "code",
      "execution_count": null,
      "metadata": {
        "id": "XS-OroA8D51A"
      },
      "outputs": [],
      "source": [
        "\"\"\"\n",
        "z = list(\n",
        "    set(\n",
        "        list(normal_freq_df[normal_freq_df['Frequency']>=seed_cutoff]['NormalGenes'])\n",
        "         + list(basal_freq_df[basal_freq_df['Frequency']>=seed_cutoff]['BasalGenes'])\n",
        "          + list(lumb_freq_df[lumb_freq_df['Frequency']>=seed_cutoff]['LumBGenes'])\n",
        "           + list(luma_freq_df[luma_freq_df['Frequency']>=seed_cutoff]['LumAGenes'])\n",
        "            + list(her2_freq_df[her2_freq_df['Frequency']>=seed_cutoff]['Her2Genes'])\n",
        "    )\n",
        ")\n",
        "\"\"\""
      ]
    },
    {
      "cell_type": "code",
      "execution_count": null,
      "metadata": {
        "id": "u06PYJOMC1nA"
      },
      "outputs": [],
      "source": [
        "len(z)"
      ]
    },
    {
      "cell_type": "code",
      "execution_count": null,
      "metadata": {
        "id": "6I36L7g2C74y"
      },
      "outputs": [],
      "source": [
        "for i in z:\n",
        "  print(i)"
      ]
    },
    {
      "cell_type": "code",
      "execution_count": null,
      "metadata": {
        "id": "VcyQ9LP3WrJd"
      },
      "outputs": [],
      "source": [
        "print(z)"
      ]
    }
  ],
  "metadata": {
    "colab": {
      "provenance": []
    },
    "kernelspec": {
      "display_name": "Python 3",
      "name": "python3"
    },
    "language_info": {
      "name": "python"
    }
  },
  "nbformat": 4,
  "nbformat_minor": 0
}